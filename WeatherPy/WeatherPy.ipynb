{
 "cells": [
  {
   "cell_type": "markdown",
   "metadata": {},
   "source": [
    "# WeatherPy\n",
    "\n",
    "---\n",
    "\n",
    "## Starter Code to Generate Random Geographic Coordinates and a List of Cities"
   ]
  },
  {
   "cell_type": "code",
   "execution_count": 19,
   "metadata": {
    "scrolled": true
   },
   "outputs": [
    {
     "data": {
      "text/plain": [
       "'32b5efd1a7f096215f709f8b859c34bd'"
      ]
     },
     "execution_count": 19,
     "metadata": {},
     "output_type": "execute_result"
    }
   ],
   "source": [
    "# Dependencies and Setup\n",
    "import matplotlib.pyplot as plt\n",
    "import pandas as pd\n",
    "import numpy as np\n",
    "import requests\n",
    "import time\n",
    "from scipy.stats import linregress\n",
    "from pprint import pprint\n",
    "import json\n",
    "#Import the OpenWeatherMap API key\n",
    "from api_keys import weather_api_key\n",
    "\n",
    "# Import citipy to determine the cities based on latitude and longitude\n",
    "from citipy import citipy\n",
    "weather_api_key"
   ]
  },
  {
   "cell_type": "markdown",
   "metadata": {},
   "source": [
    "### Generate the Cities List by Using the `citipy` Library"
   ]
  },
  {
   "cell_type": "code",
   "execution_count": 8,
   "metadata": {},
   "outputs": [
    {
     "name": "stdout",
     "output_type": "stream",
     "text": [
      "Number of cities in the list: 618\n"
     ]
    }
   ],
   "source": [
    "# Empty list for holding the latitude and longitude combinations\n",
    "lat_lngs = []\n",
    "\n",
    "# Empty list for holding the cities names\n",
    "cities = []\n",
    "\n",
    "# Range of latitudes and longitudes\n",
    "lat_range = (-90, 90)\n",
    "lng_range = (-180, 180)\n",
    "\n",
    "# Create a set of random lat and lng combinations\n",
    "lats = np.random.uniform(lat_range[0], lat_range[1], size=1500)\n",
    "lngs = np.random.uniform(lng_range[0], lng_range[1], size=1500)\n",
    "lat_lngs = zip(lats, lngs)\n",
    "\n",
    "# Identify nearest city for each lat, lng combination\n",
    "for lat_lng in lat_lngs:\n",
    "    city = citipy.nearest_city(lat_lng[0], lat_lng[1]).city_name\n",
    "    \n",
    "    # If the city is unique, then add it to a our cities list\n",
    "    if city not in cities:\n",
    "        cities.append(city)\n",
    "\n",
    "# Print the city count to confirm sufficient count\n",
    "print(f\"Number of cities in the list: {len(cities)}\")"
   ]
  },
  {
   "cell_type": "markdown",
   "metadata": {},
   "source": [
    "---"
   ]
  },
  {
   "cell_type": "markdown",
   "metadata": {},
   "source": [
    "## Requirement 1: Create Plots to Showcase the Relationship Between Weather Variables and Latitude\n",
    "\n",
    "### Use the OpenWeatherMap API to retrieve weather data from the cities list generated in the started code"
   ]
  },
  {
   "cell_type": "code",
   "execution_count": 20,
   "metadata": {},
   "outputs": [
    {
     "name": "stdout",
     "output_type": "stream",
     "text": [
      "https://api.openweathermap.org/data/2.5/weather?appid=32b5efd1a7f096215f709f8b859c34bd&units=metric&q=nemuro\n"
     ]
    }
   ],
   "source": [
    "url =\"https://api.openweathermap.org/data/2.5/weather?\"\n",
    "units = \"metric\"\n",
    "\n",
    "base_url = f\"{url}appid={weather_api_key}&units={units}&q=\"\n",
    "city_url = base_url + city\n",
    "print(city_url)"
   ]
  },
  {
   "cell_type": "code",
   "execution_count": 25,
   "metadata": {},
   "outputs": [
    {
     "data": {
      "text/plain": [
       "{'coord': {'lon': 145.575, 'lat': 43.3236},\n",
       " 'weather': [{'id': 804,\n",
       "   'main': 'Clouds',\n",
       "   'description': 'overcast clouds',\n",
       "   'icon': '04n'}],\n",
       " 'base': 'stations',\n",
       " 'main': {'temp': 6.53,\n",
       "  'feels_like': 2.13,\n",
       "  'temp_min': 6.53,\n",
       "  'temp_max': 6.53,\n",
       "  'pressure': 993,\n",
       "  'humidity': 90,\n",
       "  'sea_level': 993,\n",
       "  'grnd_level': 990},\n",
       " 'visibility': 10000,\n",
       " 'wind': {'speed': 8.12, 'deg': 245, 'gust': 14.38},\n",
       " 'clouds': {'all': 100},\n",
       " 'dt': 1682012974,\n",
       " 'sys': {'country': 'JP', 'sunrise': 1682018813, 'sunset': 1682067951},\n",
       " 'timezone': 32400,\n",
       " 'id': 2128975,\n",
       " 'name': 'Nemuro',\n",
       " 'cod': 200}"
      ]
     },
     "execution_count": 25,
     "metadata": {},
     "output_type": "execute_result"
    }
   ],
   "source": [
    "response = requests.get(city_url).json()\n",
    "response"
   ]
  },
  {
   "cell_type": "code",
   "execution_count": 26,
   "metadata": {},
   "outputs": [
    {
     "data": {
      "text/plain": [
       "dict_keys(['coord', 'weather', 'base', 'main', 'visibility', 'wind', 'clouds', 'dt', 'sys', 'timezone', 'id', 'name', 'cod'])"
      ]
     },
     "execution_count": 26,
     "metadata": {},
     "output_type": "execute_result"
    }
   ],
   "source": [
    "response.keys()"
   ]
  },
  {
   "cell_type": "code",
   "execution_count": null,
   "metadata": {},
   "outputs": [
    {
     "name": "stdout",
     "output_type": "stream",
     "text": [
      "Beginning Data Retrieval     \n",
      "-----------------------------\n",
      "Processing Record 1 of Set 1 | papatowai\n",
      "City not found. Skipping...\n",
      "Processing Record 2 of Set 1 | port-aux-francais\n",
      "City not found. Skipping...\n",
      "Processing Record 3 of Set 1 | kyaikto\n",
      "City not found. Skipping...\n",
      "Processing Record 4 of Set 1 | invercargill\n",
      "City not found. Skipping...\n",
      "Processing Record 5 of Set 1 | port elizabeth\n",
      "City not found. Skipping...\n",
      "Processing Record 6 of Set 1 | enewetak\n",
      "City not found. Skipping...\n",
      "Processing Record 7 of Set 1 | yellowknife\n",
      "City not found. Skipping...\n",
      "Processing Record 8 of Set 1 | west island\n",
      "City not found. Skipping...\n",
      "Processing Record 9 of Set 1 | tafuna\n",
      "City not found. Skipping...\n",
      "Processing Record 10 of Set 1 | blackmans bay\n",
      "City not found. Skipping...\n",
      "Processing Record 11 of Set 1 | fisterra\n",
      "City not found. Skipping...\n",
      "Processing Record 12 of Set 1 | agaro\n",
      "City not found. Skipping...\n",
      "Processing Record 13 of Set 1 | waitangi\n",
      "City not found. Skipping...\n",
      "Processing Record 14 of Set 1 | bilibino\n",
      "City not found. Skipping...\n",
      "Processing Record 15 of Set 1 | ilulissat\n",
      "City not found. Skipping...\n",
      "Processing Record 16 of Set 1 | udachny\n",
      "City not found. Skipping...\n",
      "Processing Record 17 of Set 1 | santana\n",
      "City not found. Skipping...\n",
      "Processing Record 18 of Set 1 | santa cruz\n",
      "City not found. Skipping...\n",
      "Processing Record 19 of Set 1 | albany\n",
      "City not found. Skipping...\n",
      "Processing Record 20 of Set 1 | nkurenkuru\n",
      "City not found. Skipping...\n",
      "Processing Record 21 of Set 1 | hermanus\n",
      "City not found. Skipping...\n",
      "Processing Record 22 of Set 1 | peebles\n",
      "City not found. Skipping...\n",
      "Processing Record 23 of Set 1 | adamstown\n",
      "City not found. Skipping...\n",
      "Processing Record 24 of Set 1 | taiohae\n",
      "City not found. Skipping...\n",
      "Processing Record 25 of Set 1 | vuktyl\n",
      "City not found. Skipping...\n",
      "Processing Record 26 of Set 1 | ushuaia\n",
      "City not found. Skipping...\n",
      "Processing Record 27 of Set 1 | tidjikja\n",
      "City not found. Skipping...\n",
      "Processing Record 28 of Set 1 | burela de cabo\n",
      "City not found. Skipping...\n",
      "Processing Record 29 of Set 1 | vohipaho\n",
      "City not found. Skipping...\n",
      "Processing Record 30 of Set 1 | keflavik\n",
      "City not found. Skipping...\n",
      "Processing Record 31 of Set 1 | kodiak\n",
      "City not found. Skipping...\n",
      "Processing Record 32 of Set 1 | grytviken\n",
      "City not found. Skipping...\n",
      "Processing Record 33 of Set 1 | thompson\n",
      "City not found. Skipping...\n",
      "Processing Record 34 of Set 1 | kutum\n",
      "City not found. Skipping...\n",
      "Processing Record 35 of Set 1 | lazaro cardenas\n",
      "City not found. Skipping...\n",
      "Processing Record 36 of Set 1 | lilongwe\n",
      "City not found. Skipping...\n",
      "Processing Record 37 of Set 1 | machico\n",
      "City not found. Skipping...\n",
      "Processing Record 38 of Set 1 | margaret river\n",
      "City not found. Skipping...\n",
      "Processing Record 39 of Set 1 | hobyo\n",
      "City not found. Skipping...\n",
      "Processing Record 40 of Set 1 | nova sintra\n",
      "City not found. Skipping...\n",
      "Processing Record 41 of Set 1 | igarka\n",
      "City not found. Skipping...\n",
      "Processing Record 42 of Set 1 | vytegra\n",
      "City not found. Skipping...\n",
      "Processing Record 43 of Set 1 | port mathurin\n",
      "City not found. Skipping...\n",
      "Processing Record 44 of Set 1 | rio grande\n",
      "City not found. Skipping...\n",
      "Processing Record 45 of Set 1 | konstantinovka\n",
      "City not found. Skipping...\n",
      "Processing Record 46 of Set 1 | jiayuguan\n",
      "City not found. Skipping...\n",
      "Processing Record 47 of Set 1 | namibe\n",
      "City not found. Skipping...\n",
      "Processing Record 48 of Set 1 | san patricio\n",
      "City not found. Skipping...\n",
      "Processing Record 49 of Set 1 | susuman\n",
      "City not found. Skipping...\n",
      "Processing Record 50 of Set 1 | qa'en\n",
      "City not found. Skipping...\n",
      "Processing Record 0 of Set 2 | postmasburg\n",
      "City not found. Skipping...\n",
      "Processing Record 1 of Set 2 | les anglais\n",
      "City not found. Skipping...\n",
      "Processing Record 2 of Set 2 | codrington\n",
      "City not found. Skipping...\n",
      "Processing Record 3 of Set 2 | olonkinbyen\n",
      "City not found. Skipping...\n",
      "Processing Record 4 of Set 2 | murrieta\n",
      "City not found. Skipping...\n",
      "Processing Record 5 of Set 2 | yuzhno-kurilsk\n",
      "City not found. Skipping...\n",
      "Processing Record 6 of Set 2 | dali\n",
      "City not found. Skipping...\n",
      "Processing Record 7 of Set 2 | kingston\n",
      "City not found. Skipping...\n",
      "Processing Record 8 of Set 2 | badger\n",
      "City not found. Skipping...\n",
      "Processing Record 9 of Set 2 | bredasdorp\n",
      "City not found. Skipping...\n",
      "Processing Record 10 of Set 2 | tura\n",
      "City not found. Skipping...\n",
      "Processing Record 11 of Set 2 | tchintabaraden\n",
      "City not found. Skipping...\n",
      "Processing Record 12 of Set 2 | tiksi\n",
      "City not found. Skipping...\n",
      "Processing Record 13 of Set 2 | fuvahmulah\n",
      "City not found. Skipping...\n",
      "Processing Record 14 of Set 2 | avarua\n",
      "City not found. Skipping...\n",
      "Processing Record 15 of Set 2 | tsiroanomandidy\n",
      "City not found. Skipping...\n",
      "Processing Record 16 of Set 2 | mahriz\n",
      "City not found. Skipping...\n",
      "Processing Record 17 of Set 2 | edinburgh of the seven seas\n",
      "City not found. Skipping...\n",
      "Processing Record 18 of Set 2 | anadyr\n",
      "City not found. Skipping...\n",
      "Processing Record 19 of Set 2 | nieuw amsterdam\n",
      "City not found. Skipping...\n",
      "Processing Record 20 of Set 2 | chos malal\n",
      "City not found. Skipping...\n",
      "Processing Record 21 of Set 2 | kani keli\n",
      "City not found. Skipping...\n",
      "Processing Record 22 of Set 2 | bethel\n",
      "City not found. Skipping...\n",
      "Processing Record 23 of Set 2 | athens\n",
      "City not found. Skipping...\n",
      "Processing Record 24 of Set 2 | ahau\n",
      "City not found. Skipping...\n",
      "Processing Record 25 of Set 2 | san luis de la loma\n",
      "City not found. Skipping...\n",
      "Processing Record 26 of Set 2 | bay roberts\n",
      "City not found. Skipping...\n",
      "Processing Record 27 of Set 2 | nantucket\n",
      "City not found. Skipping...\n",
      "Processing Record 28 of Set 2 | weyburn\n",
      "City not found. Skipping...\n",
      "Processing Record 29 of Set 2 | lebu\n",
      "City not found. Skipping...\n",
      "Processing Record 30 of Set 2 | vadso\n",
      "City not found. Skipping...\n",
      "Processing Record 31 of Set 2 | suai\n",
      "City not found. Skipping...\n",
      "Processing Record 32 of Set 2 | puerto ayora\n",
      "City not found. Skipping...\n",
      "Processing Record 33 of Set 2 | oum el bouaghi\n",
      "City not found. Skipping...\n",
      "Processing Record 34 of Set 2 | stiens\n",
      "City not found. Skipping...\n",
      "Processing Record 35 of Set 2 | yerofey pavlovich\n",
      "City not found. Skipping...\n",
      "Processing Record 36 of Set 2 | calatayud\n",
      "City not found. Skipping...\n",
      "Processing Record 37 of Set 2 | longyearbyen\n",
      "City not found. Skipping...\n",
      "Processing Record 38 of Set 2 | chonchi\n",
      "City not found. Skipping...\n",
      "Processing Record 39 of Set 2 | sao felix do xingu\n",
      "City not found. Skipping...\n",
      "Processing Record 40 of Set 2 | kapuskasing\n",
      "City not found. Skipping...\n",
      "Processing Record 41 of Set 2 | ponta delgada\n",
      "City not found. Skipping...\n",
      "Processing Record 42 of Set 2 | ilek\n",
      "City not found. Skipping...\n",
      "Processing Record 43 of Set 2 | hamilton\n",
      "City not found. Skipping...\n",
      "Processing Record 44 of Set 2 | atafu village\n",
      "City not found. Skipping...\n",
      "Processing Record 45 of Set 2 | primero de mayo\n",
      "City not found. Skipping...\n",
      "Processing Record 46 of Set 2 | ola\n",
      "City not found. Skipping...\n",
      "Processing Record 47 of Set 2 | ondjiva\n",
      "City not found. Skipping...\n",
      "Processing Record 48 of Set 2 | charters towers\n",
      "City not found. Skipping...\n",
      "Processing Record 49 of Set 2 | hawaiian paradise park\n",
      "City not found. Skipping...\n",
      "Processing Record 0 of Set 3 | isafjordur\n",
      "City not found. Skipping...\n",
      "Processing Record 1 of Set 3 | devinuwara\n",
      "City not found. Skipping...\n",
      "Processing Record 2 of Set 3 | college\n",
      "City not found. Skipping...\n",
      "Processing Record 3 of Set 3 | talnakh\n",
      "City not found. Skipping...\n",
      "Processing Record 4 of Set 3 | saint-leu\n",
      "City not found. Skipping...\n",
      "Processing Record 5 of Set 3 | gazipasa\n",
      "City not found. Skipping...\n",
      "Processing Record 6 of Set 3 | umba\n",
      "City not found. Skipping...\n",
      "Processing Record 7 of Set 3 | moab\n",
      "City not found. Skipping...\n",
      "Processing Record 8 of Set 3 | puerto baquerizo moreno\n",
      "City not found. Skipping...\n",
      "Processing Record 9 of Set 3 | vorgashor\n",
      "City not found. Skipping...\n",
      "Processing Record 10 of Set 3 | tual\n",
      "City not found. Skipping...\n",
      "Processing Record 11 of Set 3 | san jose de lourdes\n",
      "City not found. Skipping...\n",
      "Processing Record 12 of Set 3 | lerwick\n",
      "City not found. Skipping...\n",
      "Processing Record 13 of Set 3 | baardheere\n",
      "City not found. Skipping...\n",
      "Processing Record 14 of Set 3 | nema\n",
      "City not found. Skipping...\n",
      "Processing Record 15 of Set 3 | lompoc\n",
      "City not found. Skipping...\n",
      "Processing Record 16 of Set 3 | aioun\n"
     ]
    },
    {
     "name": "stdout",
     "output_type": "stream",
     "text": [
      "City not found. Skipping...\n",
      "Processing Record 17 of Set 3 | howrah\n",
      "City not found. Skipping...\n",
      "Processing Record 18 of Set 3 | olyokminsk\n",
      "City not found. Skipping...\n",
      "Processing Record 19 of Set 3 | nagqu\n",
      "City not found. Skipping...\n",
      "Processing Record 20 of Set 3 | hammerfest\n",
      "City not found. Skipping...\n",
      "Processing Record 21 of Set 3 | ajdabiya\n",
      "City not found. Skipping...\n",
      "Processing Record 22 of Set 3 | pilar\n",
      "City not found. Skipping...\n",
      "Processing Record 23 of Set 3 | kamina\n",
      "City not found. Skipping...\n",
      "Processing Record 24 of Set 3 | richards bay\n",
      "City not found. Skipping...\n",
      "Processing Record 25 of Set 3 | wynyard\n",
      "City not found. Skipping...\n",
      "Processing Record 26 of Set 3 | abomsa\n",
      "City not found. Skipping...\n",
      "Processing Record 27 of Set 3 | ati\n",
      "City not found. Skipping...\n",
      "Processing Record 28 of Set 3 | alibag\n",
      "City not found. Skipping...\n",
      "Processing Record 29 of Set 3 | kununurra\n",
      "City not found. Skipping...\n",
      "Processing Record 30 of Set 3 | fale old settlement\n",
      "City not found. Skipping...\n",
      "Processing Record 31 of Set 3 | uturoa\n",
      "City not found. Skipping...\n",
      "Processing Record 32 of Set 3 | isnos\n",
      "City not found. Skipping...\n",
      "Processing Record 33 of Set 3 | thinadhoo\n",
      "City not found. Skipping...\n",
      "Processing Record 34 of Set 3 | saint-pol-de-leon\n",
      "City not found. Skipping...\n",
      "Processing Record 35 of Set 3 | jamestown\n",
      "City not found. Skipping...\n",
      "Processing Record 36 of Set 3 | fort mcmurray\n",
      "City not found. Skipping...\n",
      "Processing Record 37 of Set 3 | creel\n",
      "City not found. Skipping...\n",
      "Processing Record 38 of Set 3 | zharkent\n",
      "City not found. Skipping...\n",
      "Processing Record 39 of Set 3 | tarfaya\n",
      "City not found. Skipping...\n",
      "Processing Record 40 of Set 3 | lichuan\n",
      "City not found. Skipping...\n",
      "Processing Record 41 of Set 3 | masterton\n",
      "City not found. Skipping...\n",
      "Processing Record 42 of Set 3 | masuguru\n",
      "City not found. Skipping...\n",
      "Processing Record 43 of Set 3 | longquan\n",
      "City not found. Skipping...\n",
      "Processing Record 44 of Set 3 | belle fourche\n",
      "City not found. Skipping...\n",
      "Processing Record 45 of Set 3 | petropavlovsk-kamchatsky\n",
      "City not found. Skipping...\n",
      "Processing Record 46 of Set 3 | warmbad\n",
      "City not found. Skipping...\n",
      "Processing Record 47 of Set 3 | tevriz\n",
      "City not found. Skipping...\n",
      "Processing Record 48 of Set 3 | kayangel\n",
      "City not found. Skipping...\n",
      "Processing Record 49 of Set 3 | dryden\n",
      "City not found. Skipping...\n",
      "Processing Record 0 of Set 4 | sibiti\n",
      "City not found. Skipping...\n",
      "Processing Record 1 of Set 4 | east london\n",
      "City not found. Skipping...\n",
      "Processing Record 2 of Set 4 | umm kaddadah\n",
      "City not found. Skipping...\n",
      "Processing Record 3 of Set 4 | taltal\n",
      "City not found. Skipping...\n",
      "Processing Record 4 of Set 4 | hadibu\n",
      "City not found. Skipping...\n",
      "Processing Record 5 of Set 4 | alderetes\n",
      "City not found. Skipping...\n",
      "Processing Record 6 of Set 4 | hit\n",
      "City not found. Skipping...\n",
      "Processing Record 7 of Set 4 | arno\n",
      "City not found. Skipping...\n",
      "Processing Record 8 of Set 4 | cooper's town\n",
      "City not found. Skipping...\n",
      "Processing Record 9 of Set 4 | kupang\n",
      "City not found. Skipping...\n",
      "Processing Record 10 of Set 4 | khanty-mansiysk\n",
      "City not found. Skipping...\n",
      "Processing Record 11 of Set 4 | talcahuano\n",
      "City not found. Skipping...\n",
      "Processing Record 12 of Set 4 | tahoua\n",
      "City not found. Skipping...\n",
      "Processing Record 13 of Set 4 | nyaungdon\n",
      "City not found. Skipping...\n",
      "Processing Record 14 of Set 4 | wanning\n",
      "City not found. Skipping...\n",
      "Processing Record 15 of Set 4 | pereiaslav-khmelnytskyi\n",
      "City not found. Skipping...\n",
      "Processing Record 16 of Set 4 | sao joao da barra\n",
      "City not found. Skipping...\n",
      "Processing Record 17 of Set 4 | urangan\n",
      "City not found. Skipping...\n",
      "Processing Record 18 of Set 4 | vilyuchinsk\n",
      "City not found. Skipping...\n",
      "Processing Record 19 of Set 4 | rongelap\n",
      "City not found. Skipping...\n",
      "Processing Record 20 of Set 4 | hithadhoo\n",
      "City not found. Skipping...\n",
      "Processing Record 21 of Set 4 | ta`u\n",
      "City not found. Skipping...\n",
      "Processing Record 22 of Set 4 | kuanda\n",
      "City not found. Skipping...\n",
      "Processing Record 23 of Set 4 | punta arenas\n",
      "City not found. Skipping...\n",
      "Processing Record 24 of Set 4 | carnarvon\n",
      "City not found. Skipping...\n",
      "Processing Record 25 of Set 4 | kone\n",
      "City not found. Skipping...\n",
      "Processing Record 26 of Set 4 | constantia\n",
      "City not found. Skipping...\n",
      "Processing Record 27 of Set 4 | ribeira grande\n",
      "City not found. Skipping...\n",
      "Processing Record 28 of Set 4 | iqaluit\n",
      "City not found. Skipping...\n",
      "Processing Record 29 of Set 4 | ghat\n",
      "City not found. Skipping...\n",
      "Processing Record 30 of Set 4 | kangding\n",
      "City not found. Skipping...\n",
      "Processing Record 31 of Set 4 | mount pearl\n",
      "City not found. Skipping...\n",
      "Processing Record 32 of Set 4 | hailey\n",
      "City not found. Skipping...\n",
      "Processing Record 33 of Set 4 | kangasniemi\n",
      "City not found. Skipping...\n",
      "Processing Record 34 of Set 4 | buala\n",
      "City not found. Skipping...\n",
      "Processing Record 35 of Set 4 | bhatapara\n",
      "City not found. Skipping...\n",
      "Processing Record 36 of Set 4 | cidreira\n",
      "City not found. Skipping...\n",
      "Processing Record 37 of Set 4 | broome\n",
      "City not found. Skipping...\n",
      "Processing Record 38 of Set 4 | olinda\n",
      "City not found. Skipping...\n",
      "Processing Record 39 of Set 4 | happy valley-goose bay\n",
      "City not found. Skipping...\n",
      "Processing Record 40 of Set 4 | santa maria do suacui\n",
      "City not found. Skipping...\n",
      "Processing Record 41 of Set 4 | oualidia\n",
      "City not found. Skipping...\n",
      "Processing Record 42 of Set 4 | valley east\n",
      "City not found. Skipping...\n",
      "Processing Record 43 of Set 4 | cole harbour\n",
      "City not found. Skipping...\n",
      "Processing Record 44 of Set 4 | pasni\n",
      "City not found. Skipping...\n",
      "Processing Record 45 of Set 4 | zhumysker\n",
      "City not found. Skipping...\n",
      "Processing Record 46 of Set 4 | tibati\n",
      "City not found. Skipping...\n",
      "Processing Record 47 of Set 4 | ketchikan\n",
      "City not found. Skipping...\n",
      "Processing Record 48 of Set 4 | porbandar\n",
      "City not found. Skipping...\n",
      "Processing Record 49 of Set 4 | tazovsky\n",
      "City not found. Skipping...\n",
      "Processing Record 0 of Set 5 | puerto natales\n",
      "City not found. Skipping...\n",
      "Processing Record 1 of Set 5 | flying fish cove\n",
      "City not found. Skipping...\n",
      "Processing Record 2 of Set 5 | troitskoye\n",
      "City not found. Skipping...\n",
      "Processing Record 3 of Set 5 | port lincoln\n",
      "City not found. Skipping...\n",
      "Processing Record 4 of Set 5 | laholm\n",
      "City not found. Skipping...\n",
      "Processing Record 5 of Set 5 | taroa\n",
      "City not found. Skipping...\n",
      "Processing Record 6 of Set 5 | saipan\n",
      "City not found. Skipping...\n",
      "Processing Record 7 of Set 5 | whitehorse\n",
      "City not found. Skipping...\n",
      "Processing Record 8 of Set 5 | stanley\n",
      "City not found. Skipping...\n",
      "Processing Record 9 of Set 5 | darwin\n",
      "City not found. Skipping...\n",
      "Processing Record 10 of Set 5 | la plata\n",
      "City not found. Skipping...\n",
      "Processing Record 11 of Set 5 | mahina\n",
      "City not found. Skipping...\n",
      "Processing Record 12 of Set 5 | toliara\n",
      "City not found. Skipping...\n",
      "Processing Record 13 of Set 5 | huron\n",
      "City not found. Skipping...\n",
      "Processing Record 14 of Set 5 | pitea\n",
      "City not found. Skipping...\n",
      "Processing Record 15 of Set 5 | kreminna\n",
      "City not found. Skipping...\n",
      "Processing Record 16 of Set 5 | price\n",
      "City not found. Skipping...\n",
      "Processing Record 17 of Set 5 | taber\n",
      "City not found. Skipping...\n",
      "Processing Record 18 of Set 5 | macapa\n",
      "City not found. Skipping...\n",
      "Processing Record 19 of Set 5 | lihue\n",
      "City not found. Skipping...\n",
      "Processing Record 20 of Set 5 | zel'va\n",
      "City not found. Skipping...\n",
      "Processing Record 21 of Set 5 | naifaru\n",
      "City not found. Skipping...\n",
      "Processing Record 22 of Set 5 | bargara\n",
      "City not found. Skipping...\n",
      "Processing Record 23 of Set 5 | palikir - national government center\n",
      "City not found. Skipping...\n",
      "Processing Record 24 of Set 5 | pacific grove\n",
      "City not found. Skipping...\n",
      "Processing Record 25 of Set 5 | wailua homesteads\n",
      "City not found. Skipping...\n",
      "Processing Record 26 of Set 5 | phalaborwa\n",
      "City not found. Skipping...\n",
      "Processing Record 27 of Set 5 | ouadda\n",
      "City not found. Skipping...\n",
      "Processing Record 28 of Set 5 | boa vista\n",
      "City not found. Skipping...\n",
      "Processing Record 29 of Set 5 | miramichi\n",
      "City not found. Skipping...\n",
      "Processing Record 30 of Set 5 | comodoro rivadavia\n",
      "City not found. Skipping...\n",
      "Processing Record 31 of Set 5 | freetown\n",
      "City not found. Skipping...\n",
      "Processing Record 32 of Set 5 | caleta de carquin\n",
      "City not found. Skipping...\n",
      "Processing Record 33 of Set 5 | vegreville\n",
      "City not found. Skipping...\n",
      "Processing Record 34 of Set 5 | aripuana\n"
     ]
    },
    {
     "name": "stdout",
     "output_type": "stream",
     "text": [
      "City not found. Skipping...\n",
      "Processing Record 35 of Set 5 | chui\n",
      "City not found. Skipping...\n",
      "Processing Record 36 of Set 5 | quellon\n",
      "City not found. Skipping...\n",
      "Processing Record 37 of Set 5 | port glaud\n",
      "City not found. Skipping...\n",
      "Processing Record 38 of Set 5 | neka\n",
      "City not found. Skipping...\n",
      "Processing Record 39 of Set 5 | cabo san lucas\n",
      "City not found. Skipping...\n",
      "Processing Record 40 of Set 5 | vernon\n",
      "City not found. Skipping...\n",
      "Processing Record 41 of Set 5 | guerrero negro\n",
      "City not found. Skipping...\n",
      "Processing Record 42 of Set 5 | page\n",
      "City not found. Skipping...\n",
      "Processing Record 43 of Set 5 | smara\n",
      "City not found. Skipping...\n",
      "Processing Record 44 of Set 5 | taulaga\n",
      "City not found. Skipping...\n",
      "Processing Record 45 of Set 5 | huilong\n",
      "City not found. Skipping...\n",
      "Processing Record 46 of Set 5 | nago\n",
      "City not found. Skipping...\n",
      "Processing Record 47 of Set 5 | magistral'nyy\n",
      "City not found. Skipping...\n",
      "Processing Record 48 of Set 5 | acapulco de juarez\n",
      "City not found. Skipping...\n",
      "Processing Record 49 of Set 5 | vila franca do campo\n",
      "City not found. Skipping...\n",
      "Processing Record 0 of Set 6 | fortuna\n",
      "City not found. Skipping...\n",
      "Processing Record 1 of Set 6 | maslyanino\n",
      "City not found. Skipping...\n",
      "Processing Record 2 of Set 6 | brookings\n",
      "City not found. Skipping...\n",
      "Processing Record 3 of Set 6 | eufaula\n",
      "City not found. Skipping...\n",
      "Processing Record 4 of Set 6 | boaco\n",
      "City not found. Skipping...\n",
      "Processing Record 5 of Set 6 | san antonio\n",
      "City not found. Skipping...\n",
      "Processing Record 6 of Set 6 | nalut\n",
      "City not found. Skipping...\n",
      "Processing Record 7 of Set 6 | sola\n",
      "City not found. Skipping...\n",
      "Processing Record 8 of Set 6 | noblesville\n",
      "City not found. Skipping...\n",
      "Processing Record 9 of Set 6 | ceeldheer\n",
      "City not found. Skipping...\n",
      "Processing Record 10 of Set 6 | utrik\n",
      "City not found. Skipping...\n",
      "Processing Record 11 of Set 6 | gulf shores\n",
      "City not found. Skipping...\n",
      "Processing Record 12 of Set 6 | don luan\n",
      "City not found. Skipping...\n",
      "Processing Record 13 of Set 6 | tolanaro\n",
      "City not found. Skipping...\n",
      "Processing Record 14 of Set 6 | turinsk\n"
     ]
    }
   ],
   "source": [
    "\n",
    "# Define an empty list to fetch the weather data for each city\n",
    "city_data = []\n",
    "\n",
    "\n",
    "# Print to logger\n",
    "print(\"Beginning Data Retrieval     \")\n",
    "print(\"-----------------------------\")\n",
    "\n",
    "# Create counters\n",
    "record_count = 1\n",
    "set_count = 1\n",
    "\n",
    "# Loop through all the cities in our list to fetch weather data\n",
    "for i, city in enumerate(cities):\n",
    "        \n",
    "    # Group cities in sets of 50 for logging purposes\n",
    "    if (i % 50 == 0 and i >= 50):\n",
    "        set_count += 1\n",
    "        record_count = 0\n",
    "\n",
    "    # Create endpoint URL with each city\n",
    "    city_url = base_url + city\n",
    "    \n",
    "    # Log the url, record, and set numbers\n",
    "    print(\"Processing Record %s of Set %s | %s\" % (record_count, set_count, city))\n",
    "\n",
    "    # Add 1 to the record count\n",
    "    record_count += 1\n",
    "\n",
    "    # Run an API request for each of the cities\n",
    "    try:\n",
    "        # Parse the JSON and retrieve data\n",
    "        city_weather = requests.get(city_url).json()\n",
    "\n",
    "        # Parse out latitude, longitude, max temp, humidity, cloudiness, wind speed, country, and date\n",
    "        city_lat = city_weather[\"coord\"][\"lat\"]\n",
    "        city_lng = city_weather[\"coord\"][\"lon\"]\n",
    "        city_max_temp =city_weather[\"main\"][\"max_temp\"]\n",
    "        city_humidity = city_weather[\"main\"][\"humidity\"]\n",
    "        city_clouds = city_weather[\"main\"][\"clouds\"]\n",
    "        city_wind = city_weather[\"wind\"][\"speed\"]\n",
    "        city_country = city_weather[\"sys\"][\"country\"]\n",
    "        city_date = city_weather[\"dt\"]\n",
    "\n",
    "        # Append the City information into city_data list\n",
    "        city_data.append({\"City\": city, \n",
    "                          \"Lat\": city_lat, \n",
    "                          \"Lng\": city_lng, \n",
    "                          \"Max Temp\": city_max_temp,\n",
    "                          \"Humidity\": city_humidity,\n",
    "                          \"Cloudiness\": city_clouds,\n",
    "                          \"Wind Speed\": city_wind,\n",
    "                          \"Country\": city_country,\n",
    "                          \"Date\": city_date})\n",
    "\n",
    "    # If an error is experienced, skip the city\n",
    "    except:\n",
    "        print(\"City not found. Skipping...\")\n",
    "        pass\n",
    "              \n",
    "# Indicate that Data Loading is complete \n",
    "print(\"-----------------------------\")\n",
    "print(\"Data Retrieval Complete      \")\n",
    "print(\"-----------------------------\")"
   ]
  },
  {
   "cell_type": "code",
   "execution_count": null,
   "metadata": {},
   "outputs": [],
   "source": [
    "# Convert the cities weather data into a Pandas DataFrame\n",
    "city_data_df = pd.DataFrame.from_records(city_data)\n",
    "# Show Record Count\n",
    "city_data_df.count()"
   ]
  },
  {
   "cell_type": "code",
   "execution_count": 11,
   "metadata": {},
   "outputs": [
    {
     "data": {
      "text/html": [
       "<div>\n",
       "<style scoped>\n",
       "    .dataframe tbody tr th:only-of-type {\n",
       "        vertical-align: middle;\n",
       "    }\n",
       "\n",
       "    .dataframe tbody tr th {\n",
       "        vertical-align: top;\n",
       "    }\n",
       "\n",
       "    .dataframe thead th {\n",
       "        text-align: right;\n",
       "    }\n",
       "</style>\n",
       "<table border=\"1\" class=\"dataframe\">\n",
       "  <thead>\n",
       "    <tr style=\"text-align: right;\">\n",
       "      <th></th>\n",
       "    </tr>\n",
       "  </thead>\n",
       "  <tbody>\n",
       "  </tbody>\n",
       "</table>\n",
       "</div>"
      ],
      "text/plain": [
       "Empty DataFrame\n",
       "Columns: []\n",
       "Index: []"
      ]
     },
     "execution_count": 11,
     "metadata": {},
     "output_type": "execute_result"
    }
   ],
   "source": [
    "# Display sample data\n",
    "city_data_df.head()"
   ]
  },
  {
   "cell_type": "code",
   "execution_count": null,
   "metadata": {},
   "outputs": [],
   "source": [
    "# Export the City_Data into a csv\n",
    "city_data_df.to_csv(\"output_data/cities.csv\", index_label=\"City_ID\")"
   ]
  },
  {
   "cell_type": "code",
   "execution_count": null,
   "metadata": {},
   "outputs": [],
   "source": [
    "# Read saved data\n",
    "city_data_df = pd.read_csv(\"output_data/cities.csv\", index_col=\"City_ID\")\n",
    "\n",
    "# Display sample data\n",
    "city_data_df.head()"
   ]
  },
  {
   "cell_type": "markdown",
   "metadata": {},
   "source": [
    "### Create the Scatter Plots Requested\n",
    "\n",
    "#### Latitude Vs. Temperature"
   ]
  },
  {
   "cell_type": "code",
   "execution_count": null,
   "metadata": {
    "tags": []
   },
   "outputs": [],
   "source": [
    "# Build scatter plot for latitude vs. temperature\n",
    "# YOUR CODE HERE\n",
    "\n",
    "# Incorporate the other graph properties\n",
    "# YOUR CODE HERE\n",
    "\n",
    "# Save the figure\n",
    "plt.savefig(\"output_data/Fig1.png\")\n",
    "\n",
    "# Show plot\n",
    "plt.show()"
   ]
  },
  {
   "cell_type": "markdown",
   "metadata": {},
   "source": [
    "#### Latitude Vs. Humidity"
   ]
  },
  {
   "cell_type": "code",
   "execution_count": null,
   "metadata": {},
   "outputs": [],
   "source": [
    "# Build the scatter plots for latitude vs. humidity\n",
    "# YOUR CODE HERE\n",
    "\n",
    "# Incorporate the other graph properties\n",
    "# YOUR CODE HERE\n",
    "\n",
    "# Save the figure\n",
    "plt.savefig(\"output_data/Fig2.png\")\n",
    "\n",
    "# Show plot\n",
    "plt.show()"
   ]
  },
  {
   "cell_type": "markdown",
   "metadata": {},
   "source": [
    "#### Latitude Vs. Cloudiness"
   ]
  },
  {
   "cell_type": "code",
   "execution_count": null,
   "metadata": {},
   "outputs": [],
   "source": [
    "# Build the scatter plots for latitude vs. cloudiness\n",
    "# YOUR CODE HERE\n",
    "\n",
    "# Incorporate the other graph properties\n",
    "# YOUR CODE HERE\n",
    "\n",
    "# Save the figure\n",
    "plt.savefig(\"output_data/Fig3.png\")\n",
    "\n",
    "# Show plot\n",
    "plt.show()"
   ]
  },
  {
   "cell_type": "markdown",
   "metadata": {},
   "source": [
    "#### Latitude vs. Wind Speed Plot"
   ]
  },
  {
   "cell_type": "code",
   "execution_count": null,
   "metadata": {},
   "outputs": [],
   "source": [
    "# Build the scatter plots for latitude vs. wind speed\n",
    "# YOUR CODE HERE\n",
    "\n",
    "# Incorporate the other graph properties\n",
    "# YOUR CODE HERE\n",
    "\n",
    "# Save the figure\n",
    "plt.savefig(\"output_data/Fig4.png\")\n",
    "\n",
    "# Show plot\n",
    "plt.show()"
   ]
  },
  {
   "cell_type": "markdown",
   "metadata": {},
   "source": [
    "---\n",
    "\n",
    "## Requirement 2: Compute Linear Regression for Each Relationship\n"
   ]
  },
  {
   "cell_type": "code",
   "execution_count": null,
   "metadata": {},
   "outputs": [],
   "source": [
    "# Define a function to create Linear Regression plots\n",
    "# YOUR CODE HERE"
   ]
  },
  {
   "cell_type": "code",
   "execution_count": null,
   "metadata": {},
   "outputs": [],
   "source": [
    "# Create a DataFrame with the Northern Hemisphere data (Latitude >= 0)\n",
    "# YOUR CODE HERE\n",
    "\n",
    "# Display sample data\n",
    "northern_hemi_df.head()"
   ]
  },
  {
   "cell_type": "code",
   "execution_count": null,
   "metadata": {},
   "outputs": [],
   "source": [
    "# Create a DataFrame with the Southern Hemisphere data (Latitude < 0)\n",
    "# YOUR CODE HERE\n",
    "\n",
    "# Display sample data\n",
    "southern_hemi_df.head()"
   ]
  },
  {
   "cell_type": "markdown",
   "metadata": {},
   "source": [
    "###  Temperature vs. Latitude Linear Regression Plot"
   ]
  },
  {
   "cell_type": "code",
   "execution_count": null,
   "metadata": {},
   "outputs": [],
   "source": [
    "# Linear regression on Northern Hemisphere\n",
    "# YOUR CODE HERE"
   ]
  },
  {
   "cell_type": "code",
   "execution_count": null,
   "metadata": {},
   "outputs": [],
   "source": [
    "# Linear regression on Southern Hemisphere\n",
    "# YOUR CODE HERE"
   ]
  },
  {
   "cell_type": "markdown",
   "metadata": {},
   "source": [
    "**Discussion about the linear relationship:** YOUR RESPONSE HERE"
   ]
  },
  {
   "cell_type": "markdown",
   "metadata": {},
   "source": [
    "### Humidity vs. Latitude Linear Regression Plot"
   ]
  },
  {
   "cell_type": "code",
   "execution_count": null,
   "metadata": {},
   "outputs": [],
   "source": [
    "# Northern Hemisphere\n",
    "# YOUR CODE HERE"
   ]
  },
  {
   "cell_type": "code",
   "execution_count": null,
   "metadata": {},
   "outputs": [],
   "source": [
    "# Southern Hemisphere\n",
    "# YOUR CODE HERE"
   ]
  },
  {
   "cell_type": "markdown",
   "metadata": {},
   "source": [
    "**Discussion about the linear relationship:** YOUR RESPONSE HERE"
   ]
  },
  {
   "cell_type": "markdown",
   "metadata": {},
   "source": [
    "### Cloudiness vs. Latitude Linear Regression Plot"
   ]
  },
  {
   "cell_type": "code",
   "execution_count": null,
   "metadata": {},
   "outputs": [],
   "source": [
    "# Northern Hemisphere\n",
    "# YOUR CODE HERE"
   ]
  },
  {
   "cell_type": "code",
   "execution_count": null,
   "metadata": {},
   "outputs": [],
   "source": [
    "# Southern Hemisphere\n",
    "# YOUR CODE HERE"
   ]
  },
  {
   "cell_type": "markdown",
   "metadata": {},
   "source": [
    "**Discussion about the linear relationship:** YOUR RESPONSE HERE"
   ]
  },
  {
   "cell_type": "markdown",
   "metadata": {},
   "source": [
    "### Wind Speed vs. Latitude Linear Regression Plot"
   ]
  },
  {
   "cell_type": "code",
   "execution_count": null,
   "metadata": {},
   "outputs": [],
   "source": [
    "# Northern Hemisphere\n",
    "# YOUR CODE HERE"
   ]
  },
  {
   "cell_type": "code",
   "execution_count": null,
   "metadata": {},
   "outputs": [],
   "source": [
    "# Southern Hemisphere\n",
    "# YOUR CODE HERE"
   ]
  },
  {
   "cell_type": "markdown",
   "metadata": {},
   "source": [
    "**Discussion about the linear relationship:** YOUR RESPONSE HERE"
   ]
  },
  {
   "cell_type": "code",
   "execution_count": null,
   "metadata": {},
   "outputs": [],
   "source": []
  }
 ],
 "metadata": {
  "anaconda-cloud": {},
  "kernel_info": {
   "name": "python3"
  },
  "kernelspec": {
   "display_name": "Python 3 (ipykernel)",
   "language": "python",
   "name": "python3"
  },
  "language_info": {
   "codemirror_mode": {
    "name": "ipython",
    "version": 3
   },
   "file_extension": ".py",
   "mimetype": "text/x-python",
   "name": "python",
   "nbconvert_exporter": "python",
   "pygments_lexer": "ipython3",
   "version": "3.9.13"
  },
  "latex_envs": {
   "LaTeX_envs_menu_present": true,
   "autoclose": false,
   "autocomplete": true,
   "bibliofile": "biblio.bib",
   "cite_by": "apalike",
   "current_citInitial": 1,
   "eqLabelWithNumbers": true,
   "eqNumInitial": 1,
   "hotkeys": {
    "equation": "Ctrl-E",
    "itemize": "Ctrl-I"
   },
   "labels_anchors": false,
   "latex_user_defs": false,
   "report_style_numbering": false,
   "user_envs_cfg": false
  },
  "nteract": {
   "version": "0.12.3"
  }
 },
 "nbformat": 4,
 "nbformat_minor": 4
}
